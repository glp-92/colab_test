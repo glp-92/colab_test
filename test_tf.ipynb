{
  "nbformat": 4,
  "nbformat_minor": 0,
  "metadata": {
    "colab": {
      "name": "test_tf.ipynb",
      "provenance": [],
      "collapsed_sections": [],
      "authorship_tag": "ABX9TyOU5ByAVqJirf5HozOEKDiS",
      "include_colab_link": true
    },
    "kernelspec": {
      "name": "python3",
      "display_name": "Python 3"
    },
    "language_info": {
      "name": "python"
    }
  },
  "cells": [
    {
      "cell_type": "markdown",
      "metadata": {
        "id": "view-in-github",
        "colab_type": "text"
      },
      "source": [
        "<a href=\"https://colab.research.google.com/github/glp-92/colab_test/blob/main/test_tf.ipynb\" target=\"_parent\"><img src=\"https://colab.research.google.com/assets/colab-badge.svg\" alt=\"Open In Colab\"/></a>"
      ]
    },
    {
      "cell_type": "code",
      "execution_count": null,
      "metadata": {
        "colab": {
          "base_uri": "https://localhost:8080/"
        },
        "id": "QBOhvfRB8kik",
        "outputId": "237717d3-e52b-4ceb-fb60-631bde4236c4"
      },
      "outputs": [
        {
          "output_type": "stream",
          "name": "stdout",
          "text": [
            "2.8.0\n",
            "2.8.0\n"
          ]
        }
      ],
      "source": [
        "import tensorflow as tf\n",
        "import keras as k\n",
        "print(tf.__version__)\n",
        "print(k.__version__)\n",
        "\n",
        "n = 1"
      ]
    },
    {
      "cell_type": "code",
      "source": [
        "m = n + 1"
      ],
      "metadata": {
        "id": "ATvb8T5k9sCf"
      },
      "execution_count": null,
      "outputs": []
    }
  ]
}